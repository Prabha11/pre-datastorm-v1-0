{
  "nbformat": 4,
  "nbformat_minor": 0,
  "metadata": {
    "colab": {
      "name": "homealone_2020",
      "provenance": [],
      "authorship_tag": "ABX9TyPBYuQ9O1zZZ1yfkgad/5Up",
      "include_colab_link": true
    },
    "kernelspec": {
      "name": "python3",
      "display_name": "Python 3"
    }
  },
  "cells": [
    {
      "cell_type": "markdown",
      "metadata": {
        "id": "view-in-github",
        "colab_type": "text"
      },
      "source": [
        "<a href=\"https://colab.research.google.com/github/Prabha11/pre-datastorm-v1-0/blob/master/homealone/homealone_2020.ipynb\" target=\"_parent\"><img src=\"https://colab.research.google.com/assets/colab-badge.svg\" alt=\"Open In Colab\"/></a>"
      ]
    },
    {
      "cell_type": "code",
      "metadata": {
        "id": "20hbIpFwMdJc",
        "colab_type": "code",
        "outputId": "5048de72-aefd-470b-9159-474240dd72d8",
        "colab": {
          "base_uri": "https://localhost:8080/",
          "height": 33
        }
      },
      "source": [
        "from google.colab import drive\n",
        "drive.mount('/content/drive')"
      ],
      "execution_count": 42,
      "outputs": [
        {
          "output_type": "stream",
          "text": [
            "Drive already mounted at /content/drive; to attempt to forcibly remount, call drive.mount(\"/content/drive\", force_remount=True).\n"
          ],
          "name": "stdout"
        }
      ]
    },
    {
      "cell_type": "code",
      "metadata": {
        "id": "47CKWjpZNwq_",
        "colab_type": "code",
        "colab": {}
      },
      "source": [
        "import numpy as np\n",
        "import pandas as pd"
      ],
      "execution_count": 0,
      "outputs": []
    },
    {
      "cell_type": "code",
      "metadata": {
        "id": "9zQM6bVNNCCT",
        "colab_type": "code",
        "colab": {}
      },
      "source": [
        "root_folder = '/content/drive/My Drive/Colab Notebooks/homealone2020'"
      ],
      "execution_count": 0,
      "outputs": []
    },
    {
      "cell_type": "code",
      "metadata": {
        "id": "rWtzYn37NlPZ",
        "colab_type": "code",
        "colab": {}
      },
      "source": [
        "train_raw_ds = pd.read_csv(root_folder + '/data/Train.csv')"
      ],
      "execution_count": 0,
      "outputs": []
    },
    {
      "cell_type": "code",
      "metadata": {
        "id": "q8ULb7dWOHOO",
        "colab_type": "code",
        "outputId": "6a8055e4-441b-4212-af60-924f2b11b999",
        "colab": {
          "base_uri": "https://localhost:8080/",
          "height": 313
        }
      },
      "source": [
        "train_raw_ds.head()"
      ],
      "execution_count": 46,
      "outputs": [
        {
          "output_type": "execute_result",
          "data": {
            "text/html": [
              "<div>\n",
              "<style scoped>\n",
              "    .dataframe tbody tr th:only-of-type {\n",
              "        vertical-align: middle;\n",
              "    }\n",
              "\n",
              "    .dataframe tbody tr th {\n",
              "        vertical-align: top;\n",
              "    }\n",
              "\n",
              "    .dataframe thead th {\n",
              "        text-align: right;\n",
              "    }\n",
              "</style>\n",
              "<table border=\"1\" class=\"dataframe\">\n",
              "  <thead>\n",
              "    <tr style=\"text-align: right;\">\n",
              "      <th></th>\n",
              "      <th>STATE</th>\n",
              "      <th>CONSTITUENCY</th>\n",
              "      <th>NAME</th>\n",
              "      <th>WINNER</th>\n",
              "      <th>PARTY</th>\n",
              "      <th>GENDER</th>\n",
              "      <th>CRIMINAL\\nCASES</th>\n",
              "      <th>AGE</th>\n",
              "      <th>CATEGORY</th>\n",
              "      <th>EDUCATION</th>\n",
              "      <th>ASSETS</th>\n",
              "      <th>LIABILITIES</th>\n",
              "      <th>TOTAL ELECTORS</th>\n",
              "    </tr>\n",
              "  </thead>\n",
              "  <tbody>\n",
              "    <tr>\n",
              "      <th>0</th>\n",
              "      <td>Lakshadweep</td>\n",
              "      <td>LAKSHADWEEP</td>\n",
              "      <td>DR. MOHAMMED SADIQUE KP</td>\n",
              "      <td>0</td>\n",
              "      <td>JD(U)</td>\n",
              "      <td>MALE</td>\n",
              "      <td>0</td>\n",
              "      <td>64</td>\n",
              "      <td>ST</td>\n",
              "      <td>Post Graduate</td>\n",
              "      <td>Rs 4,97,83,111\\n ~ 4 Crore+</td>\n",
              "      <td>Rs 28,87,460\\n ~ 28 Lacs+</td>\n",
              "      <td>55189</td>\n",
              "    </tr>\n",
              "    <tr>\n",
              "      <th>1</th>\n",
              "      <td>Lakshadweep</td>\n",
              "      <td>LAKSHADWEEP</td>\n",
              "      <td>MOHAMMED FAIZAL PP</td>\n",
              "      <td>1</td>\n",
              "      <td>NCP</td>\n",
              "      <td>MALE</td>\n",
              "      <td>2</td>\n",
              "      <td>43</td>\n",
              "      <td>ST</td>\n",
              "      <td>Post Graduate</td>\n",
              "      <td>Rs 9,38,641\\n ~ 9 Lacs+</td>\n",
              "      <td>Rs 0\\n ~</td>\n",
              "      <td>55189</td>\n",
              "    </tr>\n",
              "    <tr>\n",
              "      <th>2</th>\n",
              "      <td>Lakshadweep</td>\n",
              "      <td>LAKSHADWEEP</td>\n",
              "      <td>HAMDULLAH SAYEED</td>\n",
              "      <td>0</td>\n",
              "      <td>INC</td>\n",
              "      <td>MALE</td>\n",
              "      <td>0</td>\n",
              "      <td>36</td>\n",
              "      <td>ST</td>\n",
              "      <td>Graduate Professional</td>\n",
              "      <td>Rs 9,50,47,817\\n ~ 9 Crore+</td>\n",
              "      <td>Rs 4,45,771\\n ~ 4 Lacs+</td>\n",
              "      <td>55189</td>\n",
              "    </tr>\n",
              "    <tr>\n",
              "      <th>3</th>\n",
              "      <td>Daman &amp; Diu</td>\n",
              "      <td>DAMAN &amp; DIU</td>\n",
              "      <td>LALUBHAI BABUBHAI PATEL</td>\n",
              "      <td>1</td>\n",
              "      <td>BJP</td>\n",
              "      <td>MALE</td>\n",
              "      <td>0</td>\n",
              "      <td>63</td>\n",
              "      <td>GENERAL</td>\n",
              "      <td>8th Pass</td>\n",
              "      <td>Rs 21,39,93,750\\n ~ 21 Crore+</td>\n",
              "      <td>Rs 99,69,514\\n ~ 99 Lacs+</td>\n",
              "      <td>121740</td>\n",
              "    </tr>\n",
              "    <tr>\n",
              "      <th>4</th>\n",
              "      <td>Jammu &amp; Kashmir</td>\n",
              "      <td>LADAKH</td>\n",
              "      <td>SAJJAD HUSSAIN</td>\n",
              "      <td>0</td>\n",
              "      <td>IND</td>\n",
              "      <td>MALE</td>\n",
              "      <td>0</td>\n",
              "      <td>37</td>\n",
              "      <td>ST</td>\n",
              "      <td>Post Graduate</td>\n",
              "      <td>Rs 1,09,000\\n ~ 1 Lacs+</td>\n",
              "      <td>Rs 0\\n ~</td>\n",
              "      <td>179232</td>\n",
              "    </tr>\n",
              "  </tbody>\n",
              "</table>\n",
              "</div>"
            ],
            "text/plain": [
              "             STATE CONSTITUENCY  ...                LIABILITIES  TOTAL ELECTORS\n",
              "0      Lakshadweep  LAKSHADWEEP  ...  Rs 28,87,460\\n ~ 28 Lacs+           55189\n",
              "1      Lakshadweep  LAKSHADWEEP  ...                   Rs 0\\n ~           55189\n",
              "2      Lakshadweep  LAKSHADWEEP  ...    Rs 4,45,771\\n ~ 4 Lacs+           55189\n",
              "3      Daman & Diu  DAMAN & DIU  ...  Rs 99,69,514\\n ~ 99 Lacs+          121740\n",
              "4  Jammu & Kashmir       LADAKH  ...                   Rs 0\\n ~          179232\n",
              "\n",
              "[5 rows x 13 columns]"
            ]
          },
          "metadata": {
            "tags": []
          },
          "execution_count": 46
        }
      ]
    },
    {
      "cell_type": "code",
      "metadata": {
        "id": "hZW8CMIjOOSH",
        "colab_type": "code",
        "colab": {}
      },
      "source": [
        "features_to_one_hot_encode = ['PARTY', 'STATE', 'CONSTITUENCY', 'GENDER', 'CATEGORY']\n",
        "\n",
        "for feature in features_to_one_hot_encode:\n",
        "  values = pd.Series(train_raw_ds[feature])\n",
        "  dum = pd.get_dummies(values)\n",
        "  train_raw_ds = train_raw_ds.merge(dum, left_index=True, right_index=True)\n"
      ],
      "execution_count": 0,
      "outputs": []
    },
    {
      "cell_type": "code",
      "metadata": {
        "id": "CIhSINJloEZ3",
        "colab_type": "code",
        "colab": {}
      },
      "source": [
        "processed_train_ds = train_raw_ds\n",
        "columns_to_drop = ['STATE', 'CONSTITUENCY', 'NAME', 'PARTY', 'GENDER', 'CRIMINAL\\nCASES', 'AGE', 'CATEGORY', 'EDUCATION', 'ASSETS', 'LIABILITIES', 'TOTAL ELECTORS']\n",
        "\n",
        "processed_train_ds = processed_train_ds.drop(columns=columns_to_drop)"
      ],
      "execution_count": 0,
      "outputs": []
    },
    {
      "cell_type": "code",
      "metadata": {
        "id": "n8982MSizDqt",
        "colab_type": "code",
        "colab": {
          "base_uri": "https://localhost:8080/",
          "height": 33
        },
        "outputId": "4fa7a36f-2bab-4429-f879-0d289816442c"
      },
      "source": [
        "%tensorflow_version 1.x"
      ],
      "execution_count": 49,
      "outputs": [
        {
          "output_type": "stream",
          "text": [
            "TensorFlow is already loaded. Please restart the runtime to change versions.\n"
          ],
          "name": "stdout"
        }
      ]
    },
    {
      "cell_type": "code",
      "metadata": {
        "id": "2dRj8bHtwOAh",
        "colab_type": "code",
        "colab": {
          "base_uri": "https://localhost:8080/",
          "height": 217
        },
        "outputId": "0812cdd6-ac27-46ac-8100-b06300a11bc6"
      },
      "source": [
        "import tensorflow as tf\n",
        "from tensorflow import keras\n",
        "from sklearn.model_selection import train_test_split\n",
        "import numpy as np\n",
        "\n",
        "df = processed_train_ds\n",
        "properties = list(df.columns.values)\n",
        "properties.remove('WINNER')\n",
        "X = df[properties]\n",
        "y = df['WINNER']\n",
        "\n",
        "X_train, X_test, y_train, y_test = train_test_split(X, y, test_size=0.3, random_state=0)\n",
        "\n",
        "model = keras.Sequential([\n",
        "    keras.layers.Flatten(input_shape=(551,)),\n",
        "    keras.layers.Dense(16, activation=tf.nn.relu),\n",
        "\t  keras.layers.Dense(16, activation=tf.nn.relu),\n",
        "    keras.layers.Dense(1, activation=tf.nn.sigmoid),\n",
        "])\n",
        "\n",
        "model.compile(optimizer='adam',\n",
        "              loss='binary_crossentropy',\n",
        "              metrics=['accuracy'])\n",
        "\n",
        "model.fit(X_train, y_train, epochs=5, batch_size=2)\n",
        "\n",
        "test_loss, test_acc = model.evaluate(X_test, y_test)\n",
        "print('Test accuracy:', test_acc)"
      ],
      "execution_count": 60,
      "outputs": [
        {
          "output_type": "stream",
          "text": [
            "Epoch 1/5\n",
            "525/525 [==============================] - 1s 1ms/step - loss: 0.5473 - accuracy: 0.7352\n",
            "Epoch 2/5\n",
            "525/525 [==============================] - 1s 1ms/step - loss: 0.4125 - accuracy: 0.8248\n",
            "Epoch 3/5\n",
            "525/525 [==============================] - 1s 1ms/step - loss: 0.3363 - accuracy: 0.8495\n",
            "Epoch 4/5\n",
            "525/525 [==============================] - 1s 1ms/step - loss: 0.2789 - accuracy: 0.8781\n",
            "Epoch 5/5\n",
            "525/525 [==============================] - 1s 1ms/step - loss: 0.2239 - accuracy: 0.9105\n",
            "15/15 [==============================] - 0s 1ms/step - loss: 0.5330 - accuracy: 0.7667\n",
            "Test accuracy: 0.7666666507720947\n"
          ],
          "name": "stdout"
        }
      ]
    }
  ]
}