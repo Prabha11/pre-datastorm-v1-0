{
  "nbformat": 4,
  "nbformat_minor": 0,
  "metadata": {
    "colab": {
      "name": "homealone_2020",
      "provenance": [],
      "authorship_tag": "ABX9TyPehCLfGzdD0ddYAjnlvQKE",
      "include_colab_link": true
    },
    "kernelspec": {
      "name": "python3",
      "display_name": "Python 3"
    }
  },
  "cells": [
    {
      "cell_type": "markdown",
      "metadata": {
        "id": "view-in-github",
        "colab_type": "text"
      },
      "source": [
        "<a href=\"https://colab.research.google.com/github/Prabha11/pre-datastorm-v1-0/blob/master/homealone/homealone_2020.ipynb\" target=\"_parent\"><img src=\"https://colab.research.google.com/assets/colab-badge.svg\" alt=\"Open In Colab\"/></a>"
      ]
    },
    {
      "cell_type": "code",
      "metadata": {
        "id": "20hbIpFwMdJc",
        "colab_type": "code",
        "colab": {
          "base_uri": "https://localhost:8080/",
          "height": 120
        },
        "outputId": "97653524-86d6-4df8-f368-3caa600ddbf9"
      },
      "source": [
        "from google.colab import drive\n",
        "drive.mount('/content/drive')"
      ],
      "execution_count": 1,
      "outputs": [
        {
          "output_type": "stream",
          "text": [
            "Go to this URL in a browser: https://accounts.google.com/o/oauth2/auth?client_id=947318989803-6bn6qk8qdgf4n4g3pfee6491hc0brc4i.apps.googleusercontent.com&redirect_uri=urn%3aietf%3awg%3aoauth%3a2.0%3aoob&response_type=code&scope=email%20https%3a%2f%2fwww.googleapis.com%2fauth%2fdocs.test%20https%3a%2f%2fwww.googleapis.com%2fauth%2fdrive%20https%3a%2f%2fwww.googleapis.com%2fauth%2fdrive.photos.readonly%20https%3a%2f%2fwww.googleapis.com%2fauth%2fpeopleapi.readonly\n",
            "\n",
            "Enter your authorization code:\n",
            "··········\n",
            "Mounted at /content/drive\n"
          ],
          "name": "stdout"
        }
      ]
    },
    {
      "cell_type": "code",
      "metadata": {
        "id": "47CKWjpZNwq_",
        "colab_type": "code",
        "colab": {}
      },
      "source": [
        "import numpy as np\n",
        "import pandas as pd"
      ],
      "execution_count": 0,
      "outputs": []
    },
    {
      "cell_type": "code",
      "metadata": {
        "id": "9zQM6bVNNCCT",
        "colab_type": "code",
        "colab": {}
      },
      "source": [
        "root_folder = '/content/drive/My Drive/Colab Notebooks/homealone2020'"
      ],
      "execution_count": 0,
      "outputs": []
    },
    {
      "cell_type": "code",
      "metadata": {
        "id": "rWtzYn37NlPZ",
        "colab_type": "code",
        "colab": {}
      },
      "source": [
        "train_raw_ds = pd.read_csv(root_folder + '/data/Train.csv')"
      ],
      "execution_count": 0,
      "outputs": []
    },
    {
      "cell_type": "code",
      "metadata": {
        "id": "q8ULb7dWOHOO",
        "colab_type": "code",
        "colab": {
          "base_uri": "https://localhost:8080/",
          "height": 313
        },
        "outputId": "acf9e58f-3b68-402a-bd92-dd59f821cf1a"
      },
      "source": [
        "train_raw_ds.head()"
      ],
      "execution_count": 6,
      "outputs": [
        {
          "output_type": "execute_result",
          "data": {
            "text/html": [
              "<div>\n",
              "<style scoped>\n",
              "    .dataframe tbody tr th:only-of-type {\n",
              "        vertical-align: middle;\n",
              "    }\n",
              "\n",
              "    .dataframe tbody tr th {\n",
              "        vertical-align: top;\n",
              "    }\n",
              "\n",
              "    .dataframe thead th {\n",
              "        text-align: right;\n",
              "    }\n",
              "</style>\n",
              "<table border=\"1\" class=\"dataframe\">\n",
              "  <thead>\n",
              "    <tr style=\"text-align: right;\">\n",
              "      <th></th>\n",
              "      <th>STATE</th>\n",
              "      <th>CONSTITUENCY</th>\n",
              "      <th>NAME</th>\n",
              "      <th>WINNER</th>\n",
              "      <th>PARTY</th>\n",
              "      <th>GENDER</th>\n",
              "      <th>CRIMINAL\\nCASES</th>\n",
              "      <th>AGE</th>\n",
              "      <th>CATEGORY</th>\n",
              "      <th>EDUCATION</th>\n",
              "      <th>ASSETS</th>\n",
              "      <th>LIABILITIES</th>\n",
              "      <th>TOTAL ELECTORS</th>\n",
              "    </tr>\n",
              "  </thead>\n",
              "  <tbody>\n",
              "    <tr>\n",
              "      <th>0</th>\n",
              "      <td>Lakshadweep</td>\n",
              "      <td>LAKSHADWEEP</td>\n",
              "      <td>DR. MOHAMMED SADIQUE KP</td>\n",
              "      <td>0</td>\n",
              "      <td>JD(U)</td>\n",
              "      <td>MALE</td>\n",
              "      <td>0</td>\n",
              "      <td>64</td>\n",
              "      <td>ST</td>\n",
              "      <td>Post Graduate</td>\n",
              "      <td>Rs 4,97,83,111\\n ~ 4 Crore+</td>\n",
              "      <td>Rs 28,87,460\\n ~ 28 Lacs+</td>\n",
              "      <td>55189</td>\n",
              "    </tr>\n",
              "    <tr>\n",
              "      <th>1</th>\n",
              "      <td>Lakshadweep</td>\n",
              "      <td>LAKSHADWEEP</td>\n",
              "      <td>MOHAMMED FAIZAL PP</td>\n",
              "      <td>1</td>\n",
              "      <td>NCP</td>\n",
              "      <td>MALE</td>\n",
              "      <td>2</td>\n",
              "      <td>43</td>\n",
              "      <td>ST</td>\n",
              "      <td>Post Graduate</td>\n",
              "      <td>Rs 9,38,641\\n ~ 9 Lacs+</td>\n",
              "      <td>Rs 0\\n ~</td>\n",
              "      <td>55189</td>\n",
              "    </tr>\n",
              "    <tr>\n",
              "      <th>2</th>\n",
              "      <td>Lakshadweep</td>\n",
              "      <td>LAKSHADWEEP</td>\n",
              "      <td>HAMDULLAH SAYEED</td>\n",
              "      <td>0</td>\n",
              "      <td>INC</td>\n",
              "      <td>MALE</td>\n",
              "      <td>0</td>\n",
              "      <td>36</td>\n",
              "      <td>ST</td>\n",
              "      <td>Graduate Professional</td>\n",
              "      <td>Rs 9,50,47,817\\n ~ 9 Crore+</td>\n",
              "      <td>Rs 4,45,771\\n ~ 4 Lacs+</td>\n",
              "      <td>55189</td>\n",
              "    </tr>\n",
              "    <tr>\n",
              "      <th>3</th>\n",
              "      <td>Daman &amp; Diu</td>\n",
              "      <td>DAMAN &amp; DIU</td>\n",
              "      <td>LALUBHAI BABUBHAI PATEL</td>\n",
              "      <td>1</td>\n",
              "      <td>BJP</td>\n",
              "      <td>MALE</td>\n",
              "      <td>0</td>\n",
              "      <td>63</td>\n",
              "      <td>GENERAL</td>\n",
              "      <td>8th Pass</td>\n",
              "      <td>Rs 21,39,93,750\\n ~ 21 Crore+</td>\n",
              "      <td>Rs 99,69,514\\n ~ 99 Lacs+</td>\n",
              "      <td>121740</td>\n",
              "    </tr>\n",
              "    <tr>\n",
              "      <th>4</th>\n",
              "      <td>Jammu &amp; Kashmir</td>\n",
              "      <td>LADAKH</td>\n",
              "      <td>SAJJAD HUSSAIN</td>\n",
              "      <td>0</td>\n",
              "      <td>IND</td>\n",
              "      <td>MALE</td>\n",
              "      <td>0</td>\n",
              "      <td>37</td>\n",
              "      <td>ST</td>\n",
              "      <td>Post Graduate</td>\n",
              "      <td>Rs 1,09,000\\n ~ 1 Lacs+</td>\n",
              "      <td>Rs 0\\n ~</td>\n",
              "      <td>179232</td>\n",
              "    </tr>\n",
              "  </tbody>\n",
              "</table>\n",
              "</div>"
            ],
            "text/plain": [
              "             STATE CONSTITUENCY  ...                LIABILITIES  TOTAL ELECTORS\n",
              "0      Lakshadweep  LAKSHADWEEP  ...  Rs 28,87,460\\n ~ 28 Lacs+           55189\n",
              "1      Lakshadweep  LAKSHADWEEP  ...                   Rs 0\\n ~           55189\n",
              "2      Lakshadweep  LAKSHADWEEP  ...    Rs 4,45,771\\n ~ 4 Lacs+           55189\n",
              "3      Daman & Diu  DAMAN & DIU  ...  Rs 99,69,514\\n ~ 99 Lacs+          121740\n",
              "4  Jammu & Kashmir       LADAKH  ...                   Rs 0\\n ~          179232\n",
              "\n",
              "[5 rows x 13 columns]"
            ]
          },
          "metadata": {
            "tags": []
          },
          "execution_count": 6
        }
      ]
    },
    {
      "cell_type": "code",
      "metadata": {
        "id": "hZW8CMIjOOSH",
        "colab_type": "code",
        "colab": {
          "base_uri": "https://localhost:8080/",
          "height": 286
        },
        "outputId": "1eaba2d4-6ef8-47ce-da20-53959223d84e"
      },
      "source": [
        "train_raw_ds.describe()"
      ],
      "execution_count": 7,
      "outputs": [
        {
          "output_type": "execute_result",
          "data": {
            "text/html": [
              "<div>\n",
              "<style scoped>\n",
              "    .dataframe tbody tr th:only-of-type {\n",
              "        vertical-align: middle;\n",
              "    }\n",
              "\n",
              "    .dataframe tbody tr th {\n",
              "        vertical-align: top;\n",
              "    }\n",
              "\n",
              "    .dataframe thead th {\n",
              "        text-align: right;\n",
              "    }\n",
              "</style>\n",
              "<table border=\"1\" class=\"dataframe\">\n",
              "  <thead>\n",
              "    <tr style=\"text-align: right;\">\n",
              "      <th></th>\n",
              "      <th>WINNER</th>\n",
              "      <th>AGE</th>\n",
              "      <th>TOTAL ELECTORS</th>\n",
              "    </tr>\n",
              "  </thead>\n",
              "  <tbody>\n",
              "    <tr>\n",
              "      <th>count</th>\n",
              "      <td>1500.000000</td>\n",
              "      <td>1500.000000</td>\n",
              "      <td>1.500000e+03</td>\n",
              "    </tr>\n",
              "    <tr>\n",
              "      <th>mean</th>\n",
              "      <td>0.260667</td>\n",
              "      <td>52.314667</td>\n",
              "      <td>1.568015e+06</td>\n",
              "    </tr>\n",
              "    <tr>\n",
              "      <th>std</th>\n",
              "      <td>0.439145</td>\n",
              "      <td>11.797646</td>\n",
              "      <td>2.394260e+05</td>\n",
              "    </tr>\n",
              "    <tr>\n",
              "      <th>min</th>\n",
              "      <td>0.000000</td>\n",
              "      <td>25.000000</td>\n",
              "      <td>5.518900e+04</td>\n",
              "    </tr>\n",
              "    <tr>\n",
              "      <th>25%</th>\n",
              "      <td>0.000000</td>\n",
              "      <td>44.000000</td>\n",
              "      <td>1.487212e+06</td>\n",
              "    </tr>\n",
              "    <tr>\n",
              "      <th>50%</th>\n",
              "      <td>0.000000</td>\n",
              "      <td>52.000000</td>\n",
              "      <td>1.631817e+06</td>\n",
              "    </tr>\n",
              "    <tr>\n",
              "      <th>75%</th>\n",
              "      <td>1.000000</td>\n",
              "      <td>61.000000</td>\n",
              "      <td>1.716459e+06</td>\n",
              "    </tr>\n",
              "    <tr>\n",
              "      <th>max</th>\n",
              "      <td>1.000000</td>\n",
              "      <td>86.000000</td>\n",
              "      <td>1.823664e+06</td>\n",
              "    </tr>\n",
              "  </tbody>\n",
              "</table>\n",
              "</div>"
            ],
            "text/plain": [
              "            WINNER          AGE  TOTAL ELECTORS\n",
              "count  1500.000000  1500.000000    1.500000e+03\n",
              "mean      0.260667    52.314667    1.568015e+06\n",
              "std       0.439145    11.797646    2.394260e+05\n",
              "min       0.000000    25.000000    5.518900e+04\n",
              "25%       0.000000    44.000000    1.487212e+06\n",
              "50%       0.000000    52.000000    1.631817e+06\n",
              "75%       1.000000    61.000000    1.716459e+06\n",
              "max       1.000000    86.000000    1.823664e+06"
            ]
          },
          "metadata": {
            "tags": []
          },
          "execution_count": 7
        }
      ]
    }
  ]
}